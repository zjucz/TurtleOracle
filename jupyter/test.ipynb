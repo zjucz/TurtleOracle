{
 "cells": [
  {
   "cell_type": "code",
   "execution_count": 1,
   "id": "dfee082b-46ae-4d16-96c9-0ebcb8d9ee97",
   "metadata": {},
   "outputs": [],
   "source": [
    "import requests\n",
    "import json"
   ]
  },
  {
   "cell_type": "code",
   "execution_count": 2,
   "id": "20dd86dd-8056-4688-b372-4e2b0211f3a3",
   "metadata": {},
   "outputs": [],
   "source": [
    "params = {\n",
    "    'owner': '0xfae46f94ee7b2acb497cecaff6cff17f621c693d',\n",
    "}\n",
    "\n",
    "response = requests.get('https://eth-mainnet.alchemyapi.io/v2/demo/getNFTs/', params=params)"
   ]
  },
  {
   "cell_type": "code",
   "execution_count": 4,
   "id": "2a712fd2-938a-4c1a-95d4-bd9c53ea55dc",
   "metadata": {},
   "outputs": [],
   "source": [
    "params = {\n",
    "    'owner': '0x90857dd31AEF29d288C1F8c14222F5cBd1Bbb19a',\n",
    "}\n",
    "\n",
    "demo_resp = requests.get('https://eth-mainnet.alchemyapi.io/v2/demo/getNFTs/', params=params)"
   ]
  },
  {
   "cell_type": "code",
   "execution_count": 11,
   "id": "30213c17-51fe-4bf5-b2ed-4d0b13c42a15",
   "metadata": {},
   "outputs": [],
   "source": [
    "# demo_resp.json()\n",
    "\n",
    "_address = \"0x5c43B1eD97e52d009611D89b74fA829FE4ac56b1\";\n",
    "\n",
    "_data = {\n",
    "    \"jsonrpc\": \"2.0\",\n",
    "    \"id\": 0,\n",
    "    \"method\": \"alchemy_getAssetTransfers\",\n",
    "    \"params\": [\n",
    "        {\n",
    "          \"fromBlock\": \"0x0\",\n",
    "          \"fromAddress\": _address,\n",
    "          \"excludeZeroValue\": True ,\n",
    "          \"category\": [\"erc721\",\"erc1155\"]\n",
    "        }\n",
    "    ]}\n",
    "\n",
    "_params = {\n",
    "    \"method\": 'post',\n",
    "    \"headers\": { 'Content-Type': 'application/json' },\n",
    "    \"data\": _data,\n",
    "  }\n",
    "\n",
    "_apiKey = \"demo\"\n",
    "_baseURL = 'https://eth-mainnet.alchemyapi.io/v2/'+ _apiKey;\n",
    "_axiosURL = '${baseURL}';\n",
    "\n",
    "test_resp = requests.get('https://eth-mainnet.alchemyapi.io/v2/demo/', params=_params)\n",
    "\n",
    "\n",
    "#   // Print contract address and tokenId for each NFT:\n",
    "#   for (const events of res.data.result.transfers) {\n",
    "#       if (events.erc1155Metadata == null) {\n",
    "#         console.log(\"ERC-721 Token Minted: ID- \", events.tokenId, \" Contract- \", events.rawContract.address);\n",
    "#       }\n",
    "#       else{\n",
    "#         for (const erc1155 of events.erc1155Metadata) {\n",
    "#         console.log(\"ERC-1155 Token Minted: ID- \", erc1155.tokenId, \" Contract- \", events.rawContract.address);\n",
    "#         }\n",
    "#       }\n",
    "#   }"
   ]
  },
  {
   "cell_type": "code",
   "execution_count": 13,
   "id": "6b2e691a-717e-4cb8-b166-75de86252161",
   "metadata": {},
   "outputs": [
    {
     "data": {
      "text/plain": [
       "'{\"message\":\"Method Not Allowed\",\"logref\":null,\"path\":null,\"_links\":{\"self\":{\"href\":\"/v2/demo/?method=post&headers=Content-Type&data=jsonrpc&data=id&data=method&data=params\",\"templated\":false,\"profile\":null,\"deprecation\":null,\"title\":null,\"hreflang\":null,\"type\":null,\"name\":null}},\"_embedded\":{\"errors\":[{\"message\":\"Method [GET] not allowed for URI [/v2/demo/?method=post&headers=Content-Type&data=jsonrpc&data=id&data=method&data=params]. Allowed methods: [POST]\",\"logref\":null,\"path\":null,\"_links\":{},\"_embedded\":{}}]}}'"
      ]
     },
     "execution_count": 13,
     "metadata": {},
     "output_type": "execute_result"
    }
   ],
   "source": [
    "test_resp.text"
   ]
  },
  {
   "cell_type": "code",
   "execution_count": 20,
   "id": "b517895d-65f8-4155-897a-15286f991baf",
   "metadata": {},
   "outputs": [],
   "source": [
    "import requests\n",
    "\n",
    "headers = {\n",
    "    'accept': 'application/json',\n",
    "    'X-API-Key': '761fNXis5m7ZFwKQibhvUGsDvCmKYlM4Va4OJKiQpXoFc3ycDRVvqhMocY6ICEct',\n",
    "}\n",
    "\n",
    "params = {\n",
    "    'chain': 'eth',\n",
    "    'format': 'decimal',\n",
    "}\n",
    "\n",
    "response = requests.get('https://deep-index.moralis.io/api/v2/nft/0x7de3085b3190b3a787822ee16f23be010f5f8686/1/transfers', params=params, headers=headers)"
   ]
  },
  {
   "cell_type": "code",
   "execution_count": 21,
   "id": "188ddd94-2f54-4b2e-893b-393604093851",
   "metadata": {},
   "outputs": [
    {
     "data": {
      "text/plain": [
       "{'total': 0,\n",
       " 'page': 0,\n",
       " 'page_size': 500,\n",
       " 'cursor': '',\n",
       " 'result': [],\n",
       " 'block_exists': True}"
      ]
     },
     "execution_count": 21,
     "metadata": {},
     "output_type": "execute_result"
    }
   ],
   "source": [
    "response.json()"
   ]
  },
  {
   "cell_type": "code",
   "execution_count": 29,
   "id": "94ae164f-3212-4fea-88ab-99f89fe98675",
   "metadata": {},
   "outputs": [],
   "source": [
    "# User NFT Transcation History\n",
    "\n",
    "data = {\n",
    "    \"jsonrpc\": \"2.0\",\n",
    "    \"id\": 0,\n",
    "    \"method\": \"alchemy_getAssetTransfers\",\n",
    "    \"params\": [\n",
    "    {\n",
    "      \"fromBlock\": \"0x0\",\n",
    "      \"fromAddress\": \"0x90857dd31AEF29d288C1F8c14222F5cBd1Bbb19a\",\n",
    "    }]\n",
    "    }\n",
    "\n",
    "\n",
    "headers = { 'Content-Type': 'application/json' }\n",
    "\n",
    "\n",
    "apiKey = \"fY-K6btKj7v6tigwN1A2zoF3nYqF-GFq\"\n",
    "baseURL = 'https://eth-mainnet.alchemyapi.io/v2/'+apiKey\n",
    "\n",
    "\n",
    "params = {\n",
    "    'chain': 'eth',\n",
    "    'format': 'decimal',\n",
    "}\n",
    "\n",
    "response = requests.post(url=baseURL, params=params, headers=headers, data=json.dumps(data))"
   ]
  },
  {
   "cell_type": "code",
   "execution_count": 33,
   "id": "5fd33cf2-5758-4c04-a703-592700b13634",
   "metadata": {},
   "outputs": [
    {
     "data": {
      "text/plain": [
       "[{'blockNum': '0xdd266e',\n",
       "  'hash': '0x63e0468b3d225407e0c10ab8a08d72d2cb93a253188f580536abcb61bcdb0b0e',\n",
       "  'from': '0x90857dd31aef29d288c1f8c14222f5cbd1bbb19a',\n",
       "  'to': '0x58c959a4510e92097ee1697490167810c93eb581',\n",
       "  'value': 0.2,\n",
       "  'erc721TokenId': None,\n",
       "  'erc1155Metadata': None,\n",
       "  'tokenId': None,\n",
       "  'asset': 'ETH',\n",
       "  'category': 'external',\n",
       "  'rawContract': {'value': '0x2c68af0bb140000',\n",
       "   'address': None,\n",
       "   'decimal': '0x12'}},\n",
       " {'blockNum': '0xdfc65c',\n",
       "  'hash': '0x7fa054fba8db1eae8fb9ebbca750d05b0d6401f05b97e8b03ba2a304a1d6801d',\n",
       "  'from': '0x90857dd31aef29d288c1f8c14222f5cbd1bbb19a',\n",
       "  'to': '0x0a5f0363575f1d8d74046043786eb432fd882596',\n",
       "  'value': 0.0172855468628461,\n",
       "  'erc721TokenId': None,\n",
       "  'erc1155Metadata': None,\n",
       "  'tokenId': None,\n",
       "  'asset': 'ETH',\n",
       "  'category': 'external',\n",
       "  'rawContract': {'value': '0x3d691d00822094',\n",
       "   'address': None,\n",
       "   'decimal': '0x12'}},\n",
       " {'blockNum': '0xdfddcd',\n",
       "  'hash': '0xc822cdc60094df04747a406248d3092377046d9cb9adf95945b5c9575e58cd22',\n",
       "  'from': '0x90857dd31aef29d288c1f8c14222f5cbd1bbb19a',\n",
       "  'to': '0x17be2881d37f878520e46082ff3d0af739ae392b',\n",
       "  'value': 0.021,\n",
       "  'erc721TokenId': None,\n",
       "  'erc1155Metadata': None,\n",
       "  'tokenId': None,\n",
       "  'asset': 'ETH',\n",
       "  'category': 'external',\n",
       "  'rawContract': {'value': '0x4a9b6384488000',\n",
       "   'address': None,\n",
       "   'decimal': '0x12'}},\n",
       " {'blockNum': '0xdff55a',\n",
       "  'hash': '0x93ed6d8bf48997b13fe533e754e2ea86306f2ceb0c69ff21974347fae86a02a3',\n",
       "  'from': '0x90857dd31aef29d288c1f8c14222f5cbd1bbb19a',\n",
       "  'to': '0x17be2881d37f878520e46082ff3d0af739ae392b',\n",
       "  'value': 0.07,\n",
       "  'erc721TokenId': None,\n",
       "  'erc1155Metadata': None,\n",
       "  'tokenId': None,\n",
       "  'asset': 'ETH',\n",
       "  'category': 'external',\n",
       "  'rawContract': {'value': '0xf8b0a10e470000',\n",
       "   'address': None,\n",
       "   'decimal': '0x12'}},\n",
       " {'blockNum': '0xe05e1f',\n",
       "  'hash': '0x4b2a783d0f7763766a488cad7e7e99d7f334978238a58276890b4140d0c6a0f1',\n",
       "  'from': '0x90857dd31aef29d288c1f8c14222f5cbd1bbb19a',\n",
       "  'to': '0x1e06f38a5450ce7fd72f36778ae6daea550850b1',\n",
       "  'value': 0.12377,\n",
       "  'erc721TokenId': None,\n",
       "  'erc1155Metadata': None,\n",
       "  'tokenId': None,\n",
       "  'asset': 'ETH',\n",
       "  'category': 'external',\n",
       "  'rawContract': {'value': '0x1b7b828c3d9a000',\n",
       "   'address': None,\n",
       "   'decimal': '0x12'}},\n",
       " {'blockNum': '0xe0765b',\n",
       "  'hash': '0x93234fe34ce1ac1f74bbd6cac31a1a6e32a0a6667eca78ab8aa5d1963bac62ce',\n",
       "  'from': '0x90857dd31aef29d288c1f8c14222f5cbd1bbb19a',\n",
       "  'to': '0xb259a7bfe1ddc6349602645b0a53b6d894cf0cb3',\n",
       "  'value': 0.0123,\n",
       "  'erc721TokenId': None,\n",
       "  'erc1155Metadata': None,\n",
       "  'tokenId': None,\n",
       "  'asset': 'ETH',\n",
       "  'category': 'external',\n",
       "  'rawContract': {'value': '0x2bb2c8eabcc000',\n",
       "   'address': None,\n",
       "   'decimal': '0x12'}},\n",
       " {'blockNum': '0xe08ae4',\n",
       "  'hash': '0xcbd85144ea8c836ec95d4123e17bea336a0185ead8081e8b4e3ed1123e0fb7ff',\n",
       "  'from': '0x90857dd31aef29d288c1f8c14222f5cbd1bbb19a',\n",
       "  'to': '0x2a842e026a36f9af2b253855b3df5e47e2365a83',\n",
       "  'value': 0.02046266075977859,\n",
       "  'erc721TokenId': None,\n",
       "  'erc1155Metadata': None,\n",
       "  'tokenId': None,\n",
       "  'asset': 'ETH',\n",
       "  'category': 'external',\n",
       "  'rawContract': {'value': '0x48b2ae79bef522',\n",
       "   'address': None,\n",
       "   'decimal': '0x12'}},\n",
       " {'blockNum': '0xe0a70f',\n",
       "  'hash': '0xf0a65a84681ec97cf952c44881d79644c120b1ec46180f405434eb1e9d527f31',\n",
       "  'from': '0x90857dd31aef29d288c1f8c14222f5cbd1bbb19a',\n",
       "  'to': '0x17be2881d37f878520e46082ff3d0af739ae392b',\n",
       "  'value': 7.5,\n",
       "  'erc721TokenId': None,\n",
       "  'erc1155Metadata': None,\n",
       "  'tokenId': None,\n",
       "  'asset': 'ETH',\n",
       "  'category': 'external',\n",
       "  'rawContract': {'value': '0x68155a43676e0000',\n",
       "   'address': None,\n",
       "   'decimal': '0x12'}},\n",
       " {'blockNum': '0xe0a8ef',\n",
       "  'hash': '0x144c9c3ce70fd8141f04eacdb61650ac7126b98e27dd4a84aca819510fa612db',\n",
       "  'from': '0x90857dd31aef29d288c1f8c14222f5cbd1bbb19a',\n",
       "  'to': '0x1ce9d29da99a2140a0dff46f35e298b9d170ece9',\n",
       "  'value': 0.001,\n",
       "  'erc721TokenId': None,\n",
       "  'erc1155Metadata': None,\n",
       "  'tokenId': None,\n",
       "  'asset': 'ETH',\n",
       "  'category': 'external',\n",
       "  'rawContract': {'value': '0x38d7ea4c68000',\n",
       "   'address': None,\n",
       "   'decimal': '0x12'}},\n",
       " {'blockNum': '0xe0a944',\n",
       "  'hash': '0xa5b0e924267eb7c2ec28eb7749ac497c6d3e8e6f105894a90b7cbf989f22e875',\n",
       "  'from': '0x90857dd31aef29d288c1f8c14222f5cbd1bbb19a',\n",
       "  'to': '0xae7ab96520de3a18e5e111b5eaab095312d7fe84',\n",
       "  'value': 0.0001,\n",
       "  'erc721TokenId': None,\n",
       "  'erc1155Metadata': None,\n",
       "  'tokenId': None,\n",
       "  'asset': 'ETH',\n",
       "  'category': 'external',\n",
       "  'rawContract': {'value': '0x5af3107a4000',\n",
       "   'address': None,\n",
       "   'decimal': '0x12'}},\n",
       " {'blockNum': '0xe0a950',\n",
       "  'hash': '0x44dec4082f55fa9ef75667e003d245f6227153e7d8a82a75e7fc0c950123801c',\n",
       "  'from': '0x90857dd31aef29d288c1f8c14222f5cbd1bbb19a',\n",
       "  'to': '0x1982b2f5814301d4e9a8b0201555376e62f82428',\n",
       "  'value': 9.9999999999999e-05,\n",
       "  'erc721TokenId': None,\n",
       "  'erc1155Metadata': None,\n",
       "  'tokenId': None,\n",
       "  'asset': 'stETH',\n",
       "  'category': 'token',\n",
       "  'rawContract': {'value': '0x5af3107a3fff',\n",
       "   'address': '0xae7ab96520de3a18e5e111b5eaab095312d7fe84',\n",
       "   'decimal': '0x12'}},\n",
       " {'blockNum': '0xe0a968',\n",
       "  'hash': '0xc7d223d618cb80d32d8f176f87745a18eac00a3bbde07debb157f6357ab6d2f4',\n",
       "  'from': '0x90857dd31aef29d288c1f8c14222f5cbd1bbb19a',\n",
       "  'to': '0xc36442b4a4522e871399cd717abdd847ab11fe88',\n",
       "  'value': 3.6791792876412e-05,\n",
       "  'erc721TokenId': None,\n",
       "  'erc1155Metadata': None,\n",
       "  'tokenId': None,\n",
       "  'asset': 'ETH',\n",
       "  'category': 'external',\n",
       "  'rawContract': {'value': '0x217641bebb7c',\n",
       "   'address': None,\n",
       "   'decimal': '0x12'}},\n",
       " {'blockNum': '0xe0a968',\n",
       "  'hash': '0xc7d223d618cb80d32d8f176f87745a18eac00a3bbde07debb157f6357ab6d2f4',\n",
       "  'from': '0x90857dd31aef29d288c1f8c14222f5cbd1bbb19a',\n",
       "  'to': '0x8ad599c3a0ff1de082011efddc58f1908eb6e6d8',\n",
       "  'value': 0.1,\n",
       "  'erc721TokenId': None,\n",
       "  'erc1155Metadata': None,\n",
       "  'tokenId': None,\n",
       "  'asset': 'USDC',\n",
       "  'category': 'token',\n",
       "  'rawContract': {'value': '0x0186a0',\n",
       "   'address': '0xa0b86991c6218b36c1d19d4a2e9eb0ce3606eb48',\n",
       "   'decimal': '0x6'}},\n",
       " {'blockNum': '0xe0a98e',\n",
       "  'hash': '0xff964926a7ee5e60440cb6f03d6717bc9cbbf5f8fb8435876c3ca5eb943befb2',\n",
       "  'from': '0x90857dd31aef29d288c1f8c14222f5cbd1bbb19a',\n",
       "  'to': '0x881d40237659c251811cec9c364ef91dc08d300c',\n",
       "  'value': 0.01,\n",
       "  'erc721TokenId': None,\n",
       "  'erc1155Metadata': None,\n",
       "  'tokenId': None,\n",
       "  'asset': 'ETH',\n",
       "  'category': 'external',\n",
       "  'rawContract': {'value': '0x2386f26fc10000',\n",
       "   'address': None,\n",
       "   'decimal': '0x12'}},\n",
       " {'blockNum': '0xe0eb06',\n",
       "  'hash': '0x043cf1a698b0deb51c971215ab618238bf06812c387ace12b8d896d87da571be',\n",
       "  'from': '0x90857dd31aef29d288c1f8c14222f5cbd1bbb19a',\n",
       "  'to': '0xe46bedbdf2d18c254809073c06eb2188ff2d7c0c',\n",
       "  'value': 0.1,\n",
       "  'erc721TokenId': None,\n",
       "  'erc1155Metadata': None,\n",
       "  'tokenId': None,\n",
       "  'asset': 'ETH',\n",
       "  'category': 'external',\n",
       "  'rawContract': {'value': '0x16345785d8a0000',\n",
       "   'address': None,\n",
       "   'decimal': '0x12'}},\n",
       " {'blockNum': '0xe10789',\n",
       "  'hash': '0xbda2f25780c4cde24bc0af50be6fcf6b1cd8d8929f6b5cb0e3c4e85eef692bc0',\n",
       "  'from': '0x90857dd31aef29d288c1f8c14222f5cbd1bbb19a',\n",
       "  'to': '0xe4b2ff1aa34629c73c2f35da443ee371b5f6f8bf',\n",
       "  'value': 0.08353311670411734,\n",
       "  'erc721TokenId': None,\n",
       "  'erc1155Metadata': None,\n",
       "  'tokenId': None,\n",
       "  'asset': 'ETH',\n",
       "  'category': 'external',\n",
       "  'rawContract': {'value': '0x128c4ed54215264',\n",
       "   'address': None,\n",
       "   'decimal': '0x12'}},\n",
       " {'blockNum': '0xe10adc',\n",
       "  'hash': '0x8a6219b89ff1f8a5e6dcdbf4bfe525bf6f3d606a720006fcacd736daf18369b9',\n",
       "  'from': '0x90857dd31aef29d288c1f8c14222f5cbd1bbb19a',\n",
       "  'to': '0x416970cc1be2b1f77e490ac015a907d57993d2c1',\n",
       "  'value': 0.11,\n",
       "  'erc721TokenId': None,\n",
       "  'erc1155Metadata': None,\n",
       "  'tokenId': None,\n",
       "  'asset': 'ETH',\n",
       "  'category': 'external',\n",
       "  'rawContract': {'value': '0x186cc6acd4b0000',\n",
       "   'address': None,\n",
       "   'decimal': '0x12'}},\n",
       " {'blockNum': '0xe1f9ba',\n",
       "  'hash': '0xeb5e73f538972eb16b44c74a83e85db03d603a590c6fdc0bb262df99b5f6fb1b',\n",
       "  'from': '0x90857dd31aef29d288c1f8c14222f5cbd1bbb19a',\n",
       "  'to': '0xe9572c752e5862706de24e8cbf9372789b35ca77',\n",
       "  'value': 0.039724510519546945,\n",
       "  'erc721TokenId': None,\n",
       "  'erc1155Metadata': None,\n",
       "  'tokenId': None,\n",
       "  'asset': 'ETH',\n",
       "  'category': 'external',\n",
       "  'rawContract': {'value': '0x8d213b5a64d43e',\n",
       "   'address': None,\n",
       "   'decimal': '0x12'}},\n",
       " {'blockNum': '0xe1fdd6',\n",
       "  'hash': '0x7539fb35c31fc4c824afef229c9dddb1bcc6b77e43cfbc2f0ea62ea9423513f4',\n",
       "  'from': '0x90857dd31aef29d288c1f8c14222f5cbd1bbb19a',\n",
       "  'to': '0xe46bedbdf2d18c254809073c06eb2188ff2d7c0c',\n",
       "  'value': 0.12271866010858147,\n",
       "  'erc721TokenId': None,\n",
       "  'erc1155Metadata': None,\n",
       "  'tokenId': None,\n",
       "  'asset': 'ETH',\n",
       "  'category': 'external',\n",
       "  'rawContract': {'value': '0x1b3fbf89f157a5e',\n",
       "   'address': None,\n",
       "   'decimal': '0x12'}}]"
      ]
     },
     "execution_count": 33,
     "metadata": {},
     "output_type": "execute_result"
    }
   ],
   "source": [
    "response.json()['result']['transfers']"
   ]
  },
  {
   "cell_type": "code",
   "execution_count": 47,
   "id": "84a4c047-aa27-42dc-8d29-35c2d4599030",
   "metadata": {},
   "outputs": [],
   "source": [
    "# User NFT Transcation History\n",
    "\n",
    "data = {\n",
    "    \"jsonrpc\": \"2.0\",\n",
    "    \"id\": 0,\n",
    "    \"method\": \"alchemy_getAssetTransfers\",\n",
    "    \"params\": [\n",
    "    {\n",
    "      \"fromBlock\": \"0x0\",\n",
    "      \"toAddress\": \"0x84c59727820bd96B4c1b9ce2D963936Df8B6872b\",\n",
    "    }]\n",
    "    }\n",
    "\n",
    "\n",
    "headers = { 'Content-Type': 'application/json' }\n",
    "\n",
    "\n",
    "apiKey = \"fY-K6btKj7v6tigwN1A2zoF3nYqF-GFq\"\n",
    "baseURL = 'https://eth-mainnet.alchemyapi.io/v2/'+apiKey\n",
    "\n",
    "\n",
    "params = {\n",
    "    'chain': 'eth',\n",
    "    'format': 'decimal',\n",
    "}\n",
    "\n",
    "response_rev = requests.post(url=baseURL, params=params, headers=headers, data=json.dumps(data))"
   ]
  },
  {
   "cell_type": "code",
   "execution_count": 39,
   "id": "c8135fb1-eec4-4215-a8f5-ea7dcfabe40e",
   "metadata": {},
   "outputs": [
    {
     "data": {
      "text/plain": [
       "19"
      ]
     },
     "execution_count": 39,
     "metadata": {},
     "output_type": "execute_result"
    }
   ],
   "source": [
    "len(response.json()['result']['transfers'])"
   ]
  },
  {
   "cell_type": "code",
   "execution_count": 44,
   "id": "17e15d53-9a75-4fe2-8803-98bed914d739",
   "metadata": {},
   "outputs": [
    {
     "data": {
      "text/plain": [
       "2"
      ]
     },
     "execution_count": 44,
     "metadata": {},
     "output_type": "execute_result"
    }
   ],
   "source": [
    "len(response_send.json()['result']['transfers'])"
   ]
  },
  {
   "cell_type": "code",
   "execution_count": 55,
   "id": "6c3be42a-287b-4149-86b4-cdbb542522bd",
   "metadata": {},
   "outputs": [
    {
     "data": {
      "text/plain": [
       "[{'blockNum': '0xddc0e1',\n",
       "  'hash': '0x3d877b0ce76373a962ce62f41439d897bf237650b6b939917bae753b69c29017',\n",
       "  'from': '0x84c59727820bd96b4c1b9ce2d963936df8b6872b',\n",
       "  'to': '0x7f268357a8c2552623316e2562d90e642bb538e5',\n",
       "  'value': 0.24,\n",
       "  'erc721TokenId': None,\n",
       "  'erc1155Metadata': None,\n",
       "  'tokenId': None,\n",
       "  'asset': 'ETH',\n",
       "  'category': 'external',\n",
       "  'rawContract': {'value': '0x354a6ba7a180000',\n",
       "   'address': None,\n",
       "   'decimal': '0x12'}},\n",
       " {'blockNum': '0xdfad0e',\n",
       "  'hash': '0x82b785793f45a178c44ee6afb629e901c9609a209bed6bbcc24387dae38d9f23',\n",
       "  'from': '0x84c59727820bd96b4c1b9ce2d963936df8b6872b',\n",
       "  'to': '0x17be2881d37f878520e46082ff3d0af739ae392b',\n",
       "  'value': 0.05,\n",
       "  'erc721TokenId': None,\n",
       "  'erc1155Metadata': None,\n",
       "  'tokenId': None,\n",
       "  'asset': 'ETH',\n",
       "  'category': 'external',\n",
       "  'rawContract': {'value': '0xb1a2bc2ec50000',\n",
       "   'address': None,\n",
       "   'decimal': '0x12'}}]"
      ]
     },
     "execution_count": 55,
     "metadata": {},
     "output_type": "execute_result"
    }
   ],
   "source": [
    "response_send.json()['result']['transfers']"
   ]
  },
  {
   "cell_type": "code",
   "execution_count": 48,
   "id": "ede37a16-d4eb-4acc-be4e-31529feed89c",
   "metadata": {},
   "outputs": [
    {
     "data": {
      "text/plain": [
       "{'id': 0,\n",
       " 'result': {'transfers': [{'blockNum': '0xddc0bb',\n",
       "    'hash': '0x1af294402dfa31a3f061438473147e65aa054a0369dee758c7a287190d143878',\n",
       "    'from': '0x17be2881d37f878520e46082ff3d0af739ae392b',\n",
       "    'to': '0x84c59727820bd96b4c1b9ce2d963936df8b6872b',\n",
       "    'value': 0.31,\n",
       "    'erc721TokenId': None,\n",
       "    'erc1155Metadata': None,\n",
       "    'tokenId': None,\n",
       "    'asset': 'ETH',\n",
       "    'category': 'external',\n",
       "    'rawContract': {'value': '0x44d575b885f0000',\n",
       "     'address': None,\n",
       "     'decimal': '0x12'}},\n",
       "   {'blockNum': '0xddc0e1',\n",
       "    'hash': '0x3d877b0ce76373a962ce62f41439d897bf237650b6b939917bae753b69c29017',\n",
       "    'from': '0x94cfb22708a0df6df8d7c54d40e8d123f8212077',\n",
       "    'to': '0x84c59727820bd96b4c1b9ce2d963936df8b6872b',\n",
       "    'value': None,\n",
       "    'erc721TokenId': '0x0000000000000000000000000000000000000000000000000000000000000de0',\n",
       "    'erc1155Metadata': None,\n",
       "    'tokenId': '0x0000000000000000000000000000000000000000000000000000000000000de0',\n",
       "    'asset': 'GHOST',\n",
       "    'category': 'token',\n",
       "    'rawContract': {'value': None,\n",
       "     'address': '0x9401518f4ebba857baa879d9f76e1cc8b31ed197',\n",
       "     'decimal': None}},\n",
       "   {'blockNum': '0xdddbab',\n",
       "    'hash': '0x352ba3333c5be07b8dd84a9ffdb60741d2beb90e756cb1a660c483e2ceee1a63',\n",
       "    'from': '0x17be2881d37f878520e46082ff3d0af739ae392b',\n",
       "    'to': '0x84c59727820bd96b4c1b9ce2d963936df8b6872b',\n",
       "    'value': None,\n",
       "    'erc721TokenId': '0x00000000000000000000000000000000000000000000000000000000000005d5',\n",
       "    'erc1155Metadata': None,\n",
       "    'tokenId': '0x00000000000000000000000000000000000000000000000000000000000005d5',\n",
       "    'asset': 'CHINACHIC',\n",
       "    'category': 'token',\n",
       "    'rawContract': {'value': None,\n",
       "     'address': '0x7bc5d353663c4c94fd022d3df0642b56c174b45c',\n",
       "     'decimal': None}},\n",
       "   {'blockNum': '0xde67ce',\n",
       "    'hash': '0x8e9c85b204abe28a66bc91040577efff3361a7dcac6a6a4e09f75827a14b05a3',\n",
       "    'from': '0x2faf487a4414fe77e2327f0bf4ae2a264a776ad2',\n",
       "    'to': '0x84c59727820bd96b4c1b9ce2d963936df8b6872b',\n",
       "    'value': 100,\n",
       "    'erc721TokenId': None,\n",
       "    'erc1155Metadata': None,\n",
       "    'tokenId': None,\n",
       "    'asset': 'USDT',\n",
       "    'category': 'token',\n",
       "    'rawContract': {'value': '0x05f5e100',\n",
       "     'address': '0xdac17f958d2ee523a2206206994597c13d831ec7',\n",
       "     'decimal': '0x6'}},\n",
       "   {'blockNum': '0xdefb49',\n",
       "    'hash': '0x766cb276bc47454ef882cf6e24711dbdc735eaf5964f7bed64ee160120b6936f',\n",
       "    'from': '0x4b4d11dfd846508a45b72b2aedb87b78475c642c',\n",
       "    'to': '0x84c59727820bd96b4c1b9ce2d963936df8b6872b',\n",
       "    'value': None,\n",
       "    'erc721TokenId': '0x00000000000000000000000000000000000000000000000000000000000005d5',\n",
       "    'erc1155Metadata': None,\n",
       "    'tokenId': '0x00000000000000000000000000000000000000000000000000000000000005d5',\n",
       "    'asset': 'GPCC',\n",
       "    'category': 'token',\n",
       "    'rawContract': {'value': None,\n",
       "     'address': '0x4b4d11dfd846508a45b72b2aedb87b78475c642c',\n",
       "     'decimal': None}}]},\n",
       " 'jsonrpc': '2.0'}"
      ]
     },
     "execution_count": 48,
     "metadata": {},
     "output_type": "execute_result"
    }
   ],
   "source": [
    "response_rev.json()"
   ]
  },
  {
   "cell_type": "code",
   "execution_count": null,
   "id": "e1bb0126-b251-446c-bb85-3a768142d5bb",
   "metadata": {},
   "outputs": [],
   "source": []
  },
  {
   "cell_type": "code",
   "execution_count": 56,
   "id": "48108f8e-0671-4ee8-82f2-97a647172556",
   "metadata": {},
   "outputs": [],
   "source": [
    "# Average Hold Time"
   ]
  },
  {
   "cell_type": "code",
   "execution_count": 57,
   "id": "5d6dbe3e-8060-4e1e-bdb1-e77a936b134f",
   "metadata": {},
   "outputs": [],
   "source": [
    "_out = response_send.json()['result']['transfers']\n",
    "_in = response_rev.json()['result']['transfers']"
   ]
  },
  {
   "cell_type": "code",
   "execution_count": 61,
   "id": "0891489a-cd98-4fd0-b138-dac854ee2d83",
   "metadata": {},
   "outputs": [
    {
     "name": "stdout",
     "output_type": "stream",
     "text": [
      "{'blockNum': '0xddc0e1', 'hash': '0x3d877b0ce76373a962ce62f41439d897bf237650b6b939917bae753b69c29017', 'from': '0x84c59727820bd96b4c1b9ce2d963936df8b6872b', 'to': '0x7f268357a8c2552623316e2562d90e642bb538e5', 'value': 0.24, 'erc721TokenId': None, 'erc1155Metadata': None, 'tokenId': None, 'asset': 'ETH', 'category': 'external', 'rawContract': {'value': '0x354a6ba7a180000', 'address': None, 'decimal': '0x12'}}\n",
      "{'blockNum': '0xddc0e1', 'hash': '0x3d877b0ce76373a962ce62f41439d897bf237650b6b939917bae753b69c29017', 'from': '0x94cfb22708a0df6df8d7c54d40e8d123f8212077', 'to': '0x84c59727820bd96b4c1b9ce2d963936df8b6872b', 'value': None, 'erc721TokenId': '0x0000000000000000000000000000000000000000000000000000000000000de0', 'erc1155Metadata': None, 'tokenId': '0x0000000000000000000000000000000000000000000000000000000000000de0', 'asset': 'GHOST', 'category': 'token', 'rawContract': {'value': None, 'address': '0x9401518f4ebba857baa879d9f76e1cc8b31ed197', 'decimal': None}}\n"
     ]
    }
   ],
   "source": [
    "for i in _out:\n",
    "    for j in _in:\n",
    "        if i['hash'] == j['hash']:\n",
    "            print(i)\n",
    "            print(j)"
   ]
  },
  {
   "cell_type": "code",
   "execution_count": 96,
   "id": "c3e92113-04d4-4a6a-99b2-4cba0ef43c9e",
   "metadata": {},
   "outputs": [
    {
     "data": {
      "text/plain": [
       "14532833"
      ]
     },
     "execution_count": 96,
     "metadata": {},
     "output_type": "execute_result"
    }
   ],
   "source": [
    "int(_out[0]['blockNum'], 16)"
   ]
  },
  {
   "cell_type": "code",
   "execution_count": 63,
   "id": "e7be3395-611a-42ea-8221-a4b5bc2466fd",
   "metadata": {},
   "outputs": [
    {
     "data": {
      "text/plain": [
       "[{'blockNum': '0xddc0bb',\n",
       "  'hash': '0x1af294402dfa31a3f061438473147e65aa054a0369dee758c7a287190d143878',\n",
       "  'from': '0x17be2881d37f878520e46082ff3d0af739ae392b',\n",
       "  'to': '0x84c59727820bd96b4c1b9ce2d963936df8b6872b',\n",
       "  'value': 0.31,\n",
       "  'erc721TokenId': None,\n",
       "  'erc1155Metadata': None,\n",
       "  'tokenId': None,\n",
       "  'asset': 'ETH',\n",
       "  'category': 'external',\n",
       "  'rawContract': {'value': '0x44d575b885f0000',\n",
       "   'address': None,\n",
       "   'decimal': '0x12'}},\n",
       " {'blockNum': '0xddc0e1',\n",
       "  'hash': '0x3d877b0ce76373a962ce62f41439d897bf237650b6b939917bae753b69c29017',\n",
       "  'from': '0x94cfb22708a0df6df8d7c54d40e8d123f8212077',\n",
       "  'to': '0x84c59727820bd96b4c1b9ce2d963936df8b6872b',\n",
       "  'value': None,\n",
       "  'erc721TokenId': '0x0000000000000000000000000000000000000000000000000000000000000de0',\n",
       "  'erc1155Metadata': None,\n",
       "  'tokenId': '0x0000000000000000000000000000000000000000000000000000000000000de0',\n",
       "  'asset': 'GHOST',\n",
       "  'category': 'token',\n",
       "  'rawContract': {'value': None,\n",
       "   'address': '0x9401518f4ebba857baa879d9f76e1cc8b31ed197',\n",
       "   'decimal': None}},\n",
       " {'blockNum': '0xdddbab',\n",
       "  'hash': '0x352ba3333c5be07b8dd84a9ffdb60741d2beb90e756cb1a660c483e2ceee1a63',\n",
       "  'from': '0x17be2881d37f878520e46082ff3d0af739ae392b',\n",
       "  'to': '0x84c59727820bd96b4c1b9ce2d963936df8b6872b',\n",
       "  'value': None,\n",
       "  'erc721TokenId': '0x00000000000000000000000000000000000000000000000000000000000005d5',\n",
       "  'erc1155Metadata': None,\n",
       "  'tokenId': '0x00000000000000000000000000000000000000000000000000000000000005d5',\n",
       "  'asset': 'CHINACHIC',\n",
       "  'category': 'token',\n",
       "  'rawContract': {'value': None,\n",
       "   'address': '0x7bc5d353663c4c94fd022d3df0642b56c174b45c',\n",
       "   'decimal': None}},\n",
       " {'blockNum': '0xde67ce',\n",
       "  'hash': '0x8e9c85b204abe28a66bc91040577efff3361a7dcac6a6a4e09f75827a14b05a3',\n",
       "  'from': '0x2faf487a4414fe77e2327f0bf4ae2a264a776ad2',\n",
       "  'to': '0x84c59727820bd96b4c1b9ce2d963936df8b6872b',\n",
       "  'value': 100,\n",
       "  'erc721TokenId': None,\n",
       "  'erc1155Metadata': None,\n",
       "  'tokenId': None,\n",
       "  'asset': 'USDT',\n",
       "  'category': 'token',\n",
       "  'rawContract': {'value': '0x05f5e100',\n",
       "   'address': '0xdac17f958d2ee523a2206206994597c13d831ec7',\n",
       "   'decimal': '0x6'}},\n",
       " {'blockNum': '0xdefb49',\n",
       "  'hash': '0x766cb276bc47454ef882cf6e24711dbdc735eaf5964f7bed64ee160120b6936f',\n",
       "  'from': '0x4b4d11dfd846508a45b72b2aedb87b78475c642c',\n",
       "  'to': '0x84c59727820bd96b4c1b9ce2d963936df8b6872b',\n",
       "  'value': None,\n",
       "  'erc721TokenId': '0x00000000000000000000000000000000000000000000000000000000000005d5',\n",
       "  'erc1155Metadata': None,\n",
       "  'tokenId': '0x00000000000000000000000000000000000000000000000000000000000005d5',\n",
       "  'asset': 'GPCC',\n",
       "  'category': 'token',\n",
       "  'rawContract': {'value': None,\n",
       "   'address': '0x4b4d11dfd846508a45b72b2aedb87b78475c642c',\n",
       "   'decimal': None}}]"
      ]
     },
     "execution_count": 63,
     "metadata": {},
     "output_type": "execute_result"
    }
   ],
   "source": [
    "_in"
   ]
  },
  {
   "cell_type": "code",
   "execution_count": 64,
   "id": "d2aaef22-40c5-4010-8ca4-2f5d4a1ff8e3",
   "metadata": {},
   "outputs": [
    {
     "data": {
      "text/plain": [
       "'erc1155Metadata'"
      ]
     },
     "execution_count": 64,
     "metadata": {},
     "output_type": "execute_result"
    }
   ],
   "source": []
  },
  {
   "cell_type": "code",
   "execution_count": 78,
   "id": "1b425a90-3db1-4ac6-abeb-d2e928d87d25",
   "metadata": {},
   "outputs": [],
   "source": [
    "_transfer_nft_id = []\n",
    "_transfer_nft_price_value_in = []\n",
    "_transfer_nft_price_asset_in = []\n",
    "_transfer_sold_flag = False\n",
    "\n",
    "class NFTAccount(object):\n",
    "    def __init__(self):\n",
    "        pass\n",
    "    \n",
    "class NFTRecord(object):\n",
    "    def __init__(self, ids):\n",
    "        self._id = ids\n",
    "        self._price_value_in = ''\n",
    "        self._price_asset_in = ''\n",
    "        self._sold_flag = False\n",
    "        \n",
    "    def update(self, price_value_in, price_asset_in, sold_flag):\n",
    "        self._price_value_in = price_value_in\n",
    "        self._price_asset_in = price_asset_in\n",
    "        self._sold_flag = sold_flag\n",
    "        \n",
    "\n",
    "for i in _out:\n",
    "    for j in _in:\n",
    "        if i['hash'] == j['hash']:\n",
    "            if i['erc721TokenId'] == None or i['erc1155Metadata'] == None:\n",
    "                _transfer_sold_flag = False\n",
    "                _transfer_nft_price_value_in = i['value']\n",
    "                _transfer_nft_price_asset_in = i['asset']\n",
    "                _transfer_nft_id = j['rawContract']['address'] + '+' + str(j['erc721TokenId']) + str(j['erc1155Metadata'])\n",
    "            else:\n",
    "                _transfer_sold_flag = True\n",
    "                _transfer_nft_price_value_in = j['value']\n",
    "                _transfer_nft_price_asset_in = j['asset']\n",
    "                _transfer_nft_id = i['rawContract']['address'] + '+' + str(i['erc721TokenId']) + str(i['erc1155Metadata'])"
   ]
  },
  {
   "cell_type": "code",
   "execution_count": 81,
   "id": "9c60bd45-1f7b-4827-a962-58d3f79c3c93",
   "metadata": {},
   "outputs": [
    {
     "data": {
      "text/plain": [
       "'ETH'"
      ]
     },
     "execution_count": 81,
     "metadata": {},
     "output_type": "execute_result"
    }
   ],
   "source": [
    "_transfer_nft_id\n",
    "_transfer_nft_price_value_in\n",
    "_transfer_nft_price_asset_in"
   ]
  },
  {
   "cell_type": "code",
   "execution_count": 89,
   "id": "8cf726a0-8f27-43c0-a57e-3e3b32bfb534",
   "metadata": {},
   "outputs": [
    {
     "data": {
      "text/plain": [
       "{'id': 0,\n",
       " 'result': {'transfers': [{'blockNum': '0xddc0e1',\n",
       "    'hash': '0x3d877b0ce76373a962ce62f41439d897bf237650b6b939917bae753b69c29017',\n",
       "    'from': '0x84c59727820bd96b4c1b9ce2d963936df8b6872b',\n",
       "    'to': '0x7f268357a8c2552623316e2562d90e642bb538e5',\n",
       "    'value': 0.24,\n",
       "    'erc721TokenId': None,\n",
       "    'erc1155Metadata': None,\n",
       "    'tokenId': None,\n",
       "    'asset': 'ETH',\n",
       "    'category': 'external',\n",
       "    'rawContract': {'value': '0x354a6ba7a180000',\n",
       "     'address': None,\n",
       "     'decimal': '0x12'}},\n",
       "   {'blockNum': '0xdfad0e',\n",
       "    'hash': '0x82b785793f45a178c44ee6afb629e901c9609a209bed6bbcc24387dae38d9f23',\n",
       "    'from': '0x84c59727820bd96b4c1b9ce2d963936df8b6872b',\n",
       "    'to': '0x17be2881d37f878520e46082ff3d0af739ae392b',\n",
       "    'value': 0.05,\n",
       "    'erc721TokenId': None,\n",
       "    'erc1155Metadata': None,\n",
       "    'tokenId': None,\n",
       "    'asset': 'ETH',\n",
       "    'category': 'external',\n",
       "    'rawContract': {'value': '0xb1a2bc2ec50000',\n",
       "     'address': None,\n",
       "     'decimal': '0x12'}}]},\n",
       " 'jsonrpc': '2.0'}"
      ]
     },
     "execution_count": 89,
     "metadata": {},
     "output_type": "execute_result"
    }
   ],
   "source": [
    "response_send.json()"
   ]
  },
  {
   "cell_type": "code",
   "execution_count": 90,
   "id": "1eafe794-6e88-4af2-baf0-4b71e6e36344",
   "metadata": {},
   "outputs": [],
   "source": [
    "test_response = requests.get('https://deep-index.moralis.io/api/v2/nft/0xxx/1/transfers', params=params, headers=headers)"
   ]
  },
  {
   "cell_type": "code",
   "execution_count": 93,
   "id": "ef4c069a-18a6-471b-968e-d8caf8a53307",
   "metadata": {},
   "outputs": [
    {
     "ename": "KeyError",
     "evalue": "'result'",
     "output_type": "error",
     "traceback": [
      "\u001b[0;31m---------------------------------------------------------------------------\u001b[0m",
      "\u001b[0;31mKeyError\u001b[0m                                  Traceback (most recent call last)",
      "\u001b[0;32m<ipython-input-93-c8c1df2b4c6e>\u001b[0m in \u001b[0;36m<module>\u001b[0;34m\u001b[0m\n\u001b[0;32m----> 1\u001b[0;31m \u001b[0mtest_response\u001b[0m\u001b[0;34m.\u001b[0m\u001b[0mjson\u001b[0m\u001b[0;34m(\u001b[0m\u001b[0;34m)\u001b[0m\u001b[0;34m[\u001b[0m\u001b[0;34m'result'\u001b[0m\u001b[0;34m]\u001b[0m\u001b[0;34m[\u001b[0m\u001b[0;34m'transfers'\u001b[0m\u001b[0;34m]\u001b[0m\u001b[0;34m\u001b[0m\u001b[0;34m\u001b[0m\u001b[0m\n\u001b[0m",
      "\u001b[0;31mKeyError\u001b[0m: 'result'"
     ]
    }
   ],
   "source": [
    "test_response.json()['result']['transfers']"
   ]
  },
  {
   "cell_type": "code",
   "execution_count": null,
   "id": "d7a09203-db96-4df5-a743-d11bfad84f48",
   "metadata": {},
   "outputs": [],
   "source": []
  }
 ],
 "metadata": {
  "kernelspec": {
   "display_name": "Python 3",
   "language": "python",
   "name": "python3"
  },
  "language_info": {
   "codemirror_mode": {
    "name": "ipython",
    "version": 3
   },
   "file_extension": ".py",
   "mimetype": "text/x-python",
   "name": "python",
   "nbconvert_exporter": "python",
   "pygments_lexer": "ipython3",
   "version": "3.9.2"
  }
 },
 "nbformat": 4,
 "nbformat_minor": 5
}
